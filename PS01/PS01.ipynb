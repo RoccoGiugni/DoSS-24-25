{
 "cells": [
  {
   "cell_type": "markdown",
   "id": "0bd06a0b-4178-4e53-b886-2655e2082af0",
   "metadata": {
    "jp-MarkdownHeadingCollapsed": true
   },
   "source": [
    "# N BODY: Generating the input and studying the output"
   ]
  },
  {
   "cell_type": "markdown",
   "id": "9c2d62a7-84ef-49e4-8cf5-6a49ee30609c",
   "metadata": {},
   "source": [
    "## MODULES IMPORT"
   ]
  },
  {
   "cell_type": "code",
   "execution_count": 1,
   "id": "f872decd-dbab-4810-8153-cf4789946bb4",
   "metadata": {},
   "outputs": [],
   "source": [
    "import numpy  as np\n",
    "from numpy import random\n",
    "\n",
    "import matplotlib.pyplot as plt\n",
    "\n",
    "from astropy import constants as const\n",
    "from astropy import units as u"
   ]
  },
  {
   "cell_type": "code",
   "execution_count": 2,
   "id": "b704800c-9160-4381-a4f7-1db8783c5c97",
   "metadata": {},
   "outputs": [],
   "source": [
    "# UNITS\n",
    "# chosen units (same name as in astropy https://docs.astropy.org/en/stable/units/#module-astropy.units.astrophys)\n",
    "\n",
    "my_u = [\"au\",\"yr\",\"M_sun\"]\n",
    "\n",
    "# physical constants converted to chosen units\n",
    "\n",
    "G = const.G.to(my_u[0]+\"^3/(\"+my_u[1]+\"^2 \"+my_u[2]+\")\").value\n",
    "c = const.c.to(my_u[0]+\"/\"+my_u[1]).value\n",
    "\n",
    "# conversion constants between physical and internal units\n",
    "\n",
    "R0 = 1.\n",
    "M0 = 1.\n",
    "T0 = np.sqrt(R0**3/(G*M0))"
   ]
  },
  {
   "cell_type": "markdown",
   "id": "17f2a78f-5d5a-41c9-8b3d-270119128a0d",
   "metadata": {
    "jp-MarkdownHeadingCollapsed": true
   },
   "source": [
    "# INPUT GENERATION"
   ]
  },
  {
   "cell_type": "code",
   "execution_count": 3,
   "id": "da336afc-7783-4d7d-8509-aa2e8086ec72",
   "metadata": {},
   "outputs": [],
   "source": [
    "# Setting the random number generator\n",
    "\n",
    "rng = random.default_rng()"
   ]
  },
  {
   "cell_type": "markdown",
   "id": "d664ea34-6369-49f6-8eb8-3c6e1f7b3d54",
   "metadata": {},
   "source": [
    "## Bound orbit"
   ]
  },
  {
   "cell_type": "code",
   "execution_count": null,
   "id": "a5af0160-2814-42e5-9308-b975a8ea5f80",
   "metadata": {},
   "outputs": [],
   "source": [
    "# Example of a binary system - circular orbit\n",
    "m1 = random.uniform(1,10) #Msun\n",
    "m2 = random.uniform(1,10) #Msun\n",
    "M = m1 + m2\n",
    "r = 10 # au (distance)\n",
    "\n",
    "r_rel = np.array([r, 0, 0])   #relative distance\n",
    "v_rel = np.array([0, np.sqrt( G*M/r ), 0])    #relative velocity\n",
    "\n",
    "# first body\n",
    "r1 = -m2/M * r_rel\n",
    "v1 = -m2/M * v_rel\n",
    "# second body\n",
    "r2 = m1/M * r_rel\n",
    "v2 = m1/M * v_rel"
   ]
  },
  {
   "cell_type": "code",
   "execution_count": null,
   "id": "628eb7a9-4092-4a26-a710-bcca7e92a19e",
   "metadata": {},
   "outputs": [],
   "source": [
    "file_in = 'circ_in.txt'\n",
    "\n",
    "# PRINT IC\n",
    "m = np.array([m1,m2]) / M0\n",
    "R = np.array([r1,r2]) / R0\n",
    "v = np.array([v1,v2]) / (R0/T0)\n",
    "n_body = 2\n",
    "initial_time = 0\n",
    "\n",
    "# All quantities in the IC file must be in internal units\n",
    "with open(file_name_1,\"w\") as outfile:\n",
    "    outfile.write(f\"{n_body}\\n\")\n",
    "    outfile.write(f\"{initial_time}\\n\")\n",
    "    for i in range(len(m)):\n",
    "        outfile.write( \"{:<25.15e} {:<25.15e} {:<25.15e} {:<25.15e} {:<25.15e} {:<25.15e} {:<25.15e}\\n\".format(m[i],R[i][0],R[i][1],R[i][2],v[i][0],v[i][1],v[i][2]) )\n"
   ]
  },
  {
   "cell_type": "markdown",
   "id": "8686c793-2c7a-48cb-b4a9-ada286534ce4",
   "metadata": {
    "jp-MarkdownHeadingCollapsed": true
   },
   "source": [
    "## Unbound orbit"
   ]
  },
  {
   "cell_type": "code",
   "execution_count": 4,
   "id": "aaa16f53-88c5-4be4-aaba-30a95277a2c9",
   "metadata": {},
   "outputs": [],
   "source": [
    "# Random masses\n",
    "\n",
    "m_1 = rng.uniform(1, 5)\n",
    "m_2 = rng.uniform(1, 5)\n",
    "\n",
    "r_rel = np.array([10, 0, 0])\n",
    "\n",
    "M = m_1 + m_2\n",
    "mu = m_1 * m_2 / M\n",
    "\n",
    "d = np.linalg.norm(r_rel)\n",
    "\n",
    "v_min = np.sqrt(2 * G * M / d)\n",
    "v_rel = np.array([0, rng.uniform(v_min, 5 * v_min), 0])\n",
    "\n",
    "# first body\n",
    "r1 = -m_2/M * r_rel\n",
    "v1 = -m_2/M * v_rel\n",
    "# second body\n",
    "r2 = m_1/M * r_rel\n",
    "v2 = m_1/M * v_rel"
   ]
  },
  {
   "cell_type": "code",
   "execution_count": 5,
   "id": "568655f4-5b8e-4756-9ea0-7c332406d2cd",
   "metadata": {},
   "outputs": [],
   "source": [
    "file_in = 'hyper_in.txt'\n",
    "\n",
    "m = np.array([m_1,m_2]) / M0\n",
    "R = np.array([r1,r2]) / R0\n",
    "v = np.array([v1,v2]) / (R0/T0)\n",
    "\n",
    "n_body = 2\n",
    "time_in = 0\n",
    "\n",
    "# All quantities in the IC file must be in internal units\n",
    "with open(file_in, \"w\") as outfile:\n",
    "    outfile.write(f\"{n_body}\\n\")\n",
    "    outfile.write(f\"{time_in}\\n\")\n",
    "    \n",
    "    for i in range(n_body):\n",
    "        outfile.write( \"{:<25.15e} {:<25.15e} {:<25.15e} {:<25.15e} {:<25.15e} {:<25.15e} {:<25.15e}\\n\".format(m[i],R[i][0],R[i][1],R[i][2],v[i][0],v[i][1],v[i][2]) )"
   ]
  },
  {
   "cell_type": "markdown",
   "id": "e85946f6-8122-45f2-92ba-4dc826959a60",
   "metadata": {},
   "source": [
    "# OUTPUT STUDY"
   ]
  },
  {
   "cell_type": "code",
   "execution_count": 19,
   "id": "d589cb2e-1d27-4d01-9349-4d3ae9f86ac9",
   "metadata": {},
   "outputs": [],
   "source": [
    "# Loading data file\n",
    "\n",
    "file_name = 'circ_out.txt'\n",
    "\n",
    "m = 2 # number of rows to skip (i.e. number of bobies and time)\n",
    "n = 4 # 'block' length\n",
    "\n",
    "time_rows = []\n",
    "data_rows = []\n",
    "with open(file_name, \"r\") as file:\n",
    "    lines = file.readlines()\n",
    "    for i in range(0, len(lines), n):  # move through rows every n rows\n",
    "        time_rows.extend(lines[i+1:i+m])\n",
    "        data_rows.extend(lines[i+m:i+n])\n",
    "\n",
    "time = np.loadtxt(time_rows)\n",
    "data = np.loadtxt(data_rows)"
   ]
  },
  {
   "cell_type": "code",
   "execution_count": 20,
   "id": "f6b95704-e8e8-4275-8dc1-ed2cf30f8411",
   "metadata": {},
   "outputs": [],
   "source": [
    "# Fetching data\n",
    "\n",
    "m_1, m_2 = data[0, 0], data[1, 0]\n",
    "\n",
    "r_1, r_2 = data[::2, 1:4], data[1::2, 1:4]\n",
    "v_1, v_2 = data[::2, 4:7], data[1::2, 4:7]"
   ]
  },
  {
   "cell_type": "code",
   "execution_count": 21,
   "id": "b6a2addd-5360-44b6-801b-2cf8864474fd",
   "metadata": {},
   "outputs": [
    {
     "data": {
      "text/plain": [
       "[<matplotlib.lines.Line2D at 0x76fb92f014c0>]"
      ]
     },
     "execution_count": 21,
     "metadata": {},
     "output_type": "execute_result"
    },
    {
     "data": {
      "image/png": "[encoded data removed]",
      "text/plain": [
       "<Figure size 640x480 with 1 Axes>"
      ]
     },
     "metadata": {},
     "output_type": "display_data"
    }
   ],
   "source": [
    "plt.plot(r_1[:, 0], r_1[:, 1], '.')\n",
    "plt.plot(r_2[:, 0], r_2[:, 1], '.')"
   ]
  },
  {
   "cell_type": "code",
   "execution_count": 10,
   "id": "e8055c67-0d95-495c-87d9-dda99a9d6333",
   "metadata": {},
   "outputs": [
    {
     "name": "stdout",
     "output_type": "stream",
     "text": [
      "1.4758005812905135 0.9772360937340077 -4.906073345765677 -2.453036670741156\n"
     ]
    }
   ],
   "source": [
    "# Total energy of the system\n",
    "\n",
    "b_1, b_2 = data[::2], data[1::2]\n",
    "\n",
    "K_1 = b_1[:, 0] * np.linalg.norm(b_1[:, 4:7], axis=1)**2 / 2\n",
    "K_2 = b_2[:, 0] * np.linalg.norm(b_2[:, 4:7], axis=1)**2 / 2\n",
    "U = -b_1[:, 0] * b_2[:, 0] / np.linalg.norm(b_1[:, 1:4] - b_2[:, 1:4], axis=1)\n",
    "\n",
    "E_tot = K_1 + K_2 + U\n",
    "print(K_1.mean(), K_2.mean(),U.mean(), E_tot.mean())"
   ]
  },
  {
   "cell_type": "code",
   "execution_count": 22,
   "id": "cc8082e5-8315-4aa3-8999-87c8ddf0c791",
   "metadata": {},
   "outputs": [
    {
     "name": "stdout",
     "output_type": "stream",
     "text": [
      "5.796333967155069e-05\n"
     ]
    }
   ],
   "source": [
    "# Eccentricity\n",
    "\n",
    "d = np.linalg.norm(r_1 - r_2, axis=1)\n",
    "a, b = d.max(), d.min()\n",
    "\n",
    "e = np.sqrt(a**2 - b**2) / a\n",
    "print(e)"
   ]
  },
  {
   "cell_type": "code",
   "execution_count": null,
   "id": "9902638c-a7e1-4c80-aa7c-a334486bee99",
   "metadata": {},
   "outputs": [],
   "source": []
  }
 ],
 "metadata": {
  "kernelspec": {
   "display_name": "Python 3 (ipykernel)",
   "language": "python",
   "name": "python3"
  },
  "language_info": {
   "codemirror_mode": {
    "name": "ipython",
    "version": 3
   },
   "file_extension": ".py",
   "mimetype": "text/x-python",
   "name": "python",
   "nbconvert_exporter": "python",
   "pygments_lexer": "ipython3",
   "version": "3.9.19"
  }
 },
 "nbformat": 4,
 "nbformat_minor": 5
}

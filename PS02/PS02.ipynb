{
 "cells": [
  {
   "cell_type": "markdown",
   "id": "f1b52fea-3cb2-4ebe-8d17-e5051c515315",
   "metadata": {},
   "source": [
    "# PRACTICAL SESSION 02:\n",
    "Simulating truncated homogeneous sphere gravitational collapse"
   ]
  },
  {
   "cell_type": "markdown",
   "id": "23dbb5ac-82eb-420a-be9e-f7e6e3cd2651",
   "metadata": {},
   "source": [
    "## MODULES IMPORT"
   ]
  },
  {
   "cell_type": "code",
   "execution_count": 1,
   "id": "8b5619ed-a802-43f6-8f87-4aaceda91cdb",
   "metadata": {},
   "outputs": [],
   "source": [
    "import numpy as np\n",
    "import matplotlib.pyplot as plt\n",
    "\n",
    "from astropy import constants as const\n",
    "from astropy import units as u"
   ]
  },
  {
   "cell_type": "markdown",
   "id": "d4708559-f3a7-47e8-997d-8fd2d29a25d8",
   "metadata": {},
   "source": [
    "## UNITS SETTING"
   ]
  },
  {
   "cell_type": "code",
   "execution_count": 2,
   "id": "2c2c39c0-84d1-4d17-8842-a2281765c651",
   "metadata": {},
   "outputs": [],
   "source": [
    "# Chosen units (same name as in astropy https://docs.astropy.org/en/stable/units/#module-astropy.units.astrophys)\n",
    "\n",
    "my_u = [\"R_sun\",\"yr\",\"M_sun\"]\n",
    "\n",
    "# Physical constants converted to chosen units\n",
    "\n",
    "G = const.G.to(my_u[0] + \"^3/(\" + my_u[1] + \"^2 \" + my_u[2] + \")\").value\n",
    "c = const.c.to(my_u[0] + \"/\" + my_u[1]).value\n",
    "\n",
    "# Conversion constants between physical and internal units\n",
    "\n",
    "R0 = 1.\n",
    "M0 = 1.\n",
    "T0 = np.sqrt(R0**3/(G*M0))"
   ]
  },
  {
   "cell_type": "markdown",
   "id": "2fbc5c53-1084-4534-bef5-7dfb6f79ccb6",
   "metadata": {},
   "source": [
    "# 1 - INPUT GENERATION:\n",
    "Sampling N p.cles distributed uniformly in a sphere of radius R and total mass M"
   ]
  },
  {
   "cell_type": "code",
   "execution_count": 3,
   "id": "f550f8e9-4746-4034-a86e-9d587eabe899",
   "metadata": {},
   "outputs": [],
   "source": [
    "# Setting the random number generator\n",
    "\n",
    "rng = np.random.default_rng()"
   ]
  },
  {
   "cell_type": "code",
   "execution_count": 4,
   "id": "50943a88-54de-48c2-9914-db1125d69c90",
   "metadata": {},
   "outputs": [],
   "source": [
    "N = 2 # number of p.cles\n",
    "M = 1   # total mass (in units of solar mass)\n",
    "R = 1   # radius (in units of solar radius)\n",
    "\n",
    "phi = 2 * np.pi * rng.uniform(size=N)\n",
    "the = np.arccos(1 - 2 * rng.uniform(size=N))\n",
    "rho = R * rng.uniform(size=N)**(1/3)\n",
    "\n",
    "x = rho * np.sin(the) * np.cos(phi)\n",
    "y = rho * np.sin(the) * np.sin(phi)\n",
    "z = rho * np.cos(the)"
   ]
  },
  {
   "cell_type": "code",
   "execution_count": 23,
   "id": "5f5f728c-f263-4e6c-a978-c5513e1151d0",
   "metadata": {},
   "outputs": [],
   "source": [
    "file_in = 'IF_Sun_2.txt'\n",
    "\n",
    "m = M / N * np.ones(N) # mass of a single p.cle\n",
    "v = np.zeros(N)             # p.cles at rest\n",
    "\n",
    "x = x # initial position\n",
    "y = y\n",
    "z = z\n",
    "\n",
    "time_in = 0 # initial time\n",
    "\n",
    "output = np.column_stack((m, x, y, z, v, v, v))\n",
    "with open(file_in, 'w') as file:\n",
    "    file.write(f'{N}\\n')\n",
    "    file.write(f'{time_in}\\n')\n",
    "    np.savetxt(file, output)"
   ]
  },
  {
   "cell_type": "markdown",
   "id": "1d6113c6-3cb8-499a-b05a-80639dc7ea74",
   "metadata": {},
   "source": [
    "# 2 - DATA ANALYSIS"
   ]
  },
  {
   "cell_type": "markdown",
   "id": "6d6dc997-a301-4b03-80ce-8b14efd3138d",
   "metadata": {},
   "source": [
    "## OUTPUT FILE LOADING"
   ]
  },
  {
   "cell_type": "code",
   "execution_count": 19,
   "id": "9607bbe7-63b4-481f-bdcf-b3d183d4f31d",
   "metadata": {},
   "outputs": [],
   "source": [
    "file_out = 'OF_Sun.txt'\n",
    "\n",
    "n = N + 2 # 'block' length\n",
    "m = 2     # number of rows to skip (i.e. lines containing n. bodies and time)\n",
    "\n",
    "time_rows = []\n",
    "data_rows = []\n",
    "with open(file_out, \"r\") as file:\n",
    "    lines = file.readlines()\n",
    "    for i in range(0, len(lines), n):  # move through rows every n rows\n",
    "        time_rows.extend(lines[i+1:i+m])\n",
    "        data_rows.extend(lines[i+m:i+n])\n",
    "\n",
    "time = np.loadtxt(time_rows)\n",
    "data = np.loadtxt(data_rows)"
   ]
  },
  {
   "cell_type": "code",
   "execution_count": 20,
   "id": "8ae3f1d1-b2da-4cb6-9d5d-9a59feb639a9",
   "metadata": {},
   "outputs": [],
   "source": [
    "# Fetching data\n",
    "\n",
    "m = data[:, 0] # masses\n",
    "\n",
    "r = data[:, 1:4] # positions\n",
    "d = np.linalg.norm(r, axis=1)\n",
    "\n",
    "v = data[:, 4:7] # velocities\n",
    "\n",
    "d.shape"
   ]
  },
  {
   "cell_type": "markdown",
   "id": "4354a891-f46d-4207-8f71-5552496082e9",
   "metadata": {},
   "source": [
    "## ANALYSIS:\n",
    "The collapse time is expected to be $t_c = \\sqrt{\\frac{3\\pi}{32G\\rho}}$. In the simulation output we search for the time in which all particles are reasonably close to the center."
   ]
  },
  {
   "cell_type": "code",
   "execution_count": null,
   "id": "b22a422d-5b52-482a-94ea-721d5b2d6cf4",
   "metadata": {},
   "outputs": [],
   "source": [
    "plt.scatter(time)"
   ]
  }
 ],
 "metadata": {
  "kernelspec": {
   "display_name": "Python 3 (ipykernel)",
   "language": "python",
   "name": "python3"
  },
  "language_info": {
   "codemirror_mode": {
    "name": "ipython",
    "version": 3
   },
   "file_extension": ".py",
   "mimetype": "text/x-python",
   "name": "python",
   "nbconvert_exporter": "python",
   "pygments_lexer": "ipython3",
   "version": "3.9.19"
  }
 },
 "nbformat": 4,
 "nbformat_minor": 5
}

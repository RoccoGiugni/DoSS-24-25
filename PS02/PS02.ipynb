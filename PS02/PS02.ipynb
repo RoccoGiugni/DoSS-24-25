{
 "cells": [
  {
   "cell_type": "markdown",
   "id": "caf43e0c-288c-4338-ab1b-0ce921c4fa79",
   "metadata": {},
   "source": [
    "# PRACTICAL SESSION 2:\n",
    "Simulating truncated homogeneous sphere gravitational collapse"
   ]
  },
  {
   "cell_type": "markdown",
   "id": "ce115ceb-223f-46e2-a28a-c9ae5701d63f",
   "metadata": {},
   "source": [
    "## MODULES IMPORT"
   ]
  },
  {
   "cell_type": "code",
   "execution_count": 1,
   "id": "24f4cd10-453e-42d4-a78c-9f024fa84363",
   "metadata": {
    "id": "eec78939-1ab1-4844-991b-b494deccd495"
   },
   "outputs": [],
   "source": [
    "import numpy as np\n",
    "import matplotlib.pyplot as plt\n",
    "\n",
    "from astropy import constants as const\n",
    "from astropy import units as u"
   ]
  },
  {
   "cell_type": "code",
   "execution_count": 2,
   "id": "610931b2-04d4-4983-94cb-d4906b91b149",
   "metadata": {},
   "outputs": [],
   "source": [
    "# Chosen units (same name as in astropy https://docs.astropy.org/en/stable/units/#module-astropy.units.astrophys)\n",
    "\n",
    "my_u = [\"R_sun\",\"yr\",\"M_sun\"]\n",
    "\n",
    "# Physical constants converted to chosen units\n",
    "\n",
    "G = const.G.to(my_u[0] + \"^3/(\" + my_u[1] + \"^2 \" + my_u[2] + \")\").value\n",
    "c = const.c.to(my_u[0] + \"/\" + my_u[1]).value\n",
    "\n",
    "# Conversion constants between physical and internal units\n",
    "\n",
    "R0 = 1.\n",
    "M0 = 1.\n",
    "T0 = np.sqrt(R0**3/(G*M0))"
   ]
  },
  {
   "cell_type": "markdown",
   "id": "a3cf7a19-5017-4999-ab13-3fc3c80189c3",
   "metadata": {},
   "source": [
    "# 1 - INPUT GENERATION:\n",
    "Sampling N p.cles "
   ]
  },
  {
   "cell_type": "code",
   "execution_count": 3,
   "id": "ed9aeb59-d65d-461c-bd0d-e4ec036e9e21",
   "metadata": {},
   "outputs": [],
   "source": [
    "# Setting the random number generator\n",
    "\n",
    "rng = np.random.default_rng()"
   ]
  },
  {
   "cell_type": "code",
   "execution_count": 4,
   "id": "b3ad43c5-7763-48bd-9055-76326ea58556",
   "metadata": {},
   "outputs": [],
   "source": [
    "N = 100 # number of p.cles\n",
    "M = 1   # total mass (in units of solar mass)\n",
    "R = 1   # radius (in units of solar radius)\n",
    "\n",
    "phi = 2 * np.pi * rng.uniform(size=N)\n",
    "the = np.arccos(1 - 2 * rng.uniform(size=N))\n",
    "rho = R * rng.uniform(size=N)**(1/3)\n",
    "\n",
    "x = rho * np.sin(the) * np.cos(phi)\n",
    "y = rho * np.sin(the) * np.sin(phi)\n",
    "z = rho * np.cos(the)"
   ]
  },
  {
   "cell_type": "code",
   "execution_count": 5,
   "id": "38296096-9a05-4358-af6a-051328db67e4",
   "metadata": {},
   "outputs": [],
   "source": [
    "file_in = 'IF_Sun_100.txt'\n",
    "\n",
    "m = M / M0 / N * np.ones(N) # mass of a single p.cle\n",
    "v = np.zeros(N)             # p.cles at rest\n",
    "\n",
    "x = x / R0 # initial position\n",
    "y = y / R0\n",
    "z = z / R0\n",
    "\n",
    "time_in = 0 # initial time\n",
    "\n",
    "output = np.column_stack((m, x, y, z, v, v, v))\n",
    "with open(file_in, 'w', encoding=\"utf-8\") as file:\n",
    "    file.write(f'{N}\\n')\n",
    "    file.write(f'{time_in}\\n')\n",
    "    np.savetxt(file, output)"
   ]
  },
  {
   "cell_type": "markdown",
   "id": "4045867f-f8c2-4d58-8fc5-a6f8ceb650cf",
   "metadata": {},
   "source": [
    "# 2 - DATA ANALYSIS"
   ]
  },
  {
   "cell_type": "code",
   "execution_count": 6,
   "id": "ac385acb-78d2-404e-925d-0a793a193a39",
   "metadata": {},
   "outputs": [
    {
     "ename": "ValueError",
     "evalue": "the number of columns changed from 7 to 1 at row 3; use `usecols` to select a subset and avoid this error",
     "output_type": "error",
     "traceback": [
      "\u001b[0;31m---------------------------------------------------------------------------\u001b[0m",
      "\u001b[0;31mValueError\u001b[0m                                Traceback (most recent call last)",
      "Cell \u001b[0;32mIn[6], line 15\u001b[0m\n\u001b[1;32m     12\u001b[0m         data_rows\u001b[38;5;241m.\u001b[39mextend(lines[i\u001b[38;5;241m+\u001b[39mm:i\u001b[38;5;241m+\u001b[39mn])\n\u001b[1;32m     14\u001b[0m time \u001b[38;5;241m=\u001b[39m np\u001b[38;5;241m.\u001b[39mloadtxt(time_rows)\n\u001b[0;32m---> 15\u001b[0m data \u001b[38;5;241m=\u001b[39m \u001b[43mnp\u001b[49m\u001b[38;5;241;43m.\u001b[39;49m\u001b[43mloadtxt\u001b[49m\u001b[43m(\u001b[49m\u001b[43mdata_rows\u001b[49m\u001b[43m)\u001b[49m\n",
      "File \u001b[0;32m~/software/anaconda3/envs/pitone/lib/python3.9/site-packages/numpy/lib/npyio.py:1373\u001b[0m, in \u001b[0;36mloadtxt\u001b[0;34m(fname, dtype, comments, delimiter, converters, skiprows, usecols, unpack, ndmin, encoding, max_rows, quotechar, like)\u001b[0m\n\u001b[1;32m   1370\u001b[0m \u001b[38;5;28;01mif\u001b[39;00m \u001b[38;5;28misinstance\u001b[39m(delimiter, \u001b[38;5;28mbytes\u001b[39m):\n\u001b[1;32m   1371\u001b[0m     delimiter \u001b[38;5;241m=\u001b[39m delimiter\u001b[38;5;241m.\u001b[39mdecode(\u001b[38;5;124m'\u001b[39m\u001b[38;5;124mlatin1\u001b[39m\u001b[38;5;124m'\u001b[39m)\n\u001b[0;32m-> 1373\u001b[0m arr \u001b[38;5;241m=\u001b[39m \u001b[43m_read\u001b[49m\u001b[43m(\u001b[49m\u001b[43mfname\u001b[49m\u001b[43m,\u001b[49m\u001b[43m \u001b[49m\u001b[43mdtype\u001b[49m\u001b[38;5;241;43m=\u001b[39;49m\u001b[43mdtype\u001b[49m\u001b[43m,\u001b[49m\u001b[43m \u001b[49m\u001b[43mcomment\u001b[49m\u001b[38;5;241;43m=\u001b[39;49m\u001b[43mcomment\u001b[49m\u001b[43m,\u001b[49m\u001b[43m \u001b[49m\u001b[43mdelimiter\u001b[49m\u001b[38;5;241;43m=\u001b[39;49m\u001b[43mdelimiter\u001b[49m\u001b[43m,\u001b[49m\n\u001b[1;32m   1374\u001b[0m \u001b[43m            \u001b[49m\u001b[43mconverters\u001b[49m\u001b[38;5;241;43m=\u001b[39;49m\u001b[43mconverters\u001b[49m\u001b[43m,\u001b[49m\u001b[43m \u001b[49m\u001b[43mskiplines\u001b[49m\u001b[38;5;241;43m=\u001b[39;49m\u001b[43mskiprows\u001b[49m\u001b[43m,\u001b[49m\u001b[43m \u001b[49m\u001b[43musecols\u001b[49m\u001b[38;5;241;43m=\u001b[39;49m\u001b[43musecols\u001b[49m\u001b[43m,\u001b[49m\n\u001b[1;32m   1375\u001b[0m \u001b[43m            \u001b[49m\u001b[43munpack\u001b[49m\u001b[38;5;241;43m=\u001b[39;49m\u001b[43munpack\u001b[49m\u001b[43m,\u001b[49m\u001b[43m \u001b[49m\u001b[43mndmin\u001b[49m\u001b[38;5;241;43m=\u001b[39;49m\u001b[43mndmin\u001b[49m\u001b[43m,\u001b[49m\u001b[43m \u001b[49m\u001b[43mencoding\u001b[49m\u001b[38;5;241;43m=\u001b[39;49m\u001b[43mencoding\u001b[49m\u001b[43m,\u001b[49m\n\u001b[1;32m   1376\u001b[0m \u001b[43m            \u001b[49m\u001b[43mmax_rows\u001b[49m\u001b[38;5;241;43m=\u001b[39;49m\u001b[43mmax_rows\u001b[49m\u001b[43m,\u001b[49m\u001b[43m \u001b[49m\u001b[43mquote\u001b[49m\u001b[38;5;241;43m=\u001b[39;49m\u001b[43mquotechar\u001b[49m\u001b[43m)\u001b[49m\n\u001b[1;32m   1378\u001b[0m \u001b[38;5;28;01mreturn\u001b[39;00m arr\n",
      "File \u001b[0;32m~/software/anaconda3/envs/pitone/lib/python3.9/site-packages/numpy/lib/npyio.py:1016\u001b[0m, in \u001b[0;36m_read\u001b[0;34m(fname, delimiter, comment, quote, imaginary_unit, usecols, skiplines, max_rows, converters, ndmin, unpack, dtype, encoding)\u001b[0m\n\u001b[1;32m   1013\u001b[0m     data \u001b[38;5;241m=\u001b[39m _preprocess_comments(data, comments, encoding)\n\u001b[1;32m   1015\u001b[0m \u001b[38;5;28;01mif\u001b[39;00m read_dtype_via_object_chunks \u001b[38;5;129;01mis\u001b[39;00m \u001b[38;5;28;01mNone\u001b[39;00m:\n\u001b[0;32m-> 1016\u001b[0m     arr \u001b[38;5;241m=\u001b[39m \u001b[43m_load_from_filelike\u001b[49m\u001b[43m(\u001b[49m\n\u001b[1;32m   1017\u001b[0m \u001b[43m        \u001b[49m\u001b[43mdata\u001b[49m\u001b[43m,\u001b[49m\u001b[43m \u001b[49m\u001b[43mdelimiter\u001b[49m\u001b[38;5;241;43m=\u001b[39;49m\u001b[43mdelimiter\u001b[49m\u001b[43m,\u001b[49m\u001b[43m \u001b[49m\u001b[43mcomment\u001b[49m\u001b[38;5;241;43m=\u001b[39;49m\u001b[43mcomment\u001b[49m\u001b[43m,\u001b[49m\u001b[43m \u001b[49m\u001b[43mquote\u001b[49m\u001b[38;5;241;43m=\u001b[39;49m\u001b[43mquote\u001b[49m\u001b[43m,\u001b[49m\n\u001b[1;32m   1018\u001b[0m \u001b[43m        \u001b[49m\u001b[43mimaginary_unit\u001b[49m\u001b[38;5;241;43m=\u001b[39;49m\u001b[43mimaginary_unit\u001b[49m\u001b[43m,\u001b[49m\n\u001b[1;32m   1019\u001b[0m \u001b[43m        \u001b[49m\u001b[43musecols\u001b[49m\u001b[38;5;241;43m=\u001b[39;49m\u001b[43musecols\u001b[49m\u001b[43m,\u001b[49m\u001b[43m \u001b[49m\u001b[43mskiplines\u001b[49m\u001b[38;5;241;43m=\u001b[39;49m\u001b[43mskiplines\u001b[49m\u001b[43m,\u001b[49m\u001b[43m \u001b[49m\u001b[43mmax_rows\u001b[49m\u001b[38;5;241;43m=\u001b[39;49m\u001b[43mmax_rows\u001b[49m\u001b[43m,\u001b[49m\n\u001b[1;32m   1020\u001b[0m \u001b[43m        \u001b[49m\u001b[43mconverters\u001b[49m\u001b[38;5;241;43m=\u001b[39;49m\u001b[43mconverters\u001b[49m\u001b[43m,\u001b[49m\u001b[43m \u001b[49m\u001b[43mdtype\u001b[49m\u001b[38;5;241;43m=\u001b[39;49m\u001b[43mdtype\u001b[49m\u001b[43m,\u001b[49m\n\u001b[1;32m   1021\u001b[0m \u001b[43m        \u001b[49m\u001b[43mencoding\u001b[49m\u001b[38;5;241;43m=\u001b[39;49m\u001b[43mencoding\u001b[49m\u001b[43m,\u001b[49m\u001b[43m \u001b[49m\u001b[43mfilelike\u001b[49m\u001b[38;5;241;43m=\u001b[39;49m\u001b[43mfilelike\u001b[49m\u001b[43m,\u001b[49m\n\u001b[1;32m   1022\u001b[0m \u001b[43m        \u001b[49m\u001b[43mbyte_converters\u001b[49m\u001b[38;5;241;43m=\u001b[39;49m\u001b[43mbyte_converters\u001b[49m\u001b[43m)\u001b[49m\n\u001b[1;32m   1024\u001b[0m \u001b[38;5;28;01melse\u001b[39;00m:\n\u001b[1;32m   1025\u001b[0m     \u001b[38;5;66;03m# This branch reads the file into chunks of object arrays and then\u001b[39;00m\n\u001b[1;32m   1026\u001b[0m     \u001b[38;5;66;03m# casts them to the desired actual dtype.  This ensures correct\u001b[39;00m\n\u001b[1;32m   1027\u001b[0m     \u001b[38;5;66;03m# string-length and datetime-unit discovery (like `arr.astype()`).\u001b[39;00m\n\u001b[1;32m   1028\u001b[0m     \u001b[38;5;66;03m# Due to chunking, certain error reports are less clear, currently.\u001b[39;00m\n\u001b[1;32m   1029\u001b[0m     \u001b[38;5;28;01mif\u001b[39;00m filelike:\n",
      "\u001b[0;31mValueError\u001b[0m: the number of columns changed from 7 to 1 at row 3; use `usecols` to select a subset and avoid this error"
     ]
    }
   ],
   "source": [
    "file_out = 'OF_Sun_2.txt'\n",
    "\n",
    "n = N + 2 # 'block' length\n",
    "m = 2     # number of rows to skip (i.e. lines containing n. bodies and time)\n",
    "\n",
    "time_rows = []\n",
    "data_rows = []\n",
    "with open(file_out, \"r\") as file:\n",
    "    lines = file.readlines()\n",
    "    for i in range(0, len(lines), n):  # move through rows every n rows\n",
    "        time_rows.extend(lines[i+1:i+m])\n",
    "        data_rows.extend(lines[i+m:i+n])\n",
    "\n",
    "time = np.loadtxt(time_rows)\n",
    "data = np.loadtxt(data_rows)"
   ]
  },
  {
   "cell_type": "code",
   "execution_count": null,
   "id": "31921c6f-659d-49fc-aef4-bc201dbace62",
   "metadata": {},
   "outputs": [],
   "source": [
    "# Fetching data\n",
    "\n",
    "m = data[:, 0] # masses\n",
    "\n",
    "r = data[:, 1:4] # positions\n",
    "d = np.linalg.norm(r, axis=1)\n",
    "\n",
    "v = data[:, 4:7] # velocities\n",
    "\n",
    "d.shape"
   ]
  },
  {
   "cell_type": "code",
   "execution_count": null,
   "id": "0b0265fe-9a27-4fa8-a87e-b837670bf623",
   "metadata": {},
   "outputs": [],
   "source": [
    "fig, ax = plt.subplots(1, 1, layout='constrained')\n",
    "\n",
    "for i in range(N):\n",
    "    ax.plot(time, d[i::N], '.')"
   ]
  },
  {
   "cell_type": "code",
   "execution_count": null,
   "id": "290926fd-abc8-42bd-9b4f-285bff3d3de7",
   "metadata": {},
   "outputs": [],
   "source": []
  }
 ],
 "metadata": {
  "kernelspec": {
   "display_name": "Python 3 (ipykernel)",
   "language": "python",
   "name": "python3"
  },
  "language_info": {
   "codemirror_mode": {
    "name": "ipython",
    "version": 3
   },
   "file_extension": ".py",
   "mimetype": "text/x-python",
   "name": "python",
   "nbconvert_exporter": "python",
   "pygments_lexer": "ipython3",
   "version": "3.9.19"
  }
 },
 "nbformat": 4,
 "nbformat_minor": 5
}

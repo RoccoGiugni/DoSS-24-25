{
 "cells": [
  {
   "cell_type": "markdown",
   "id": "caf43e0c-288c-4338-ab1b-0ce921c4fa79",
   "metadata": {},
   "source": [
    "# PRACTICAL SESSION 2:\n",
    "Simulating truncated homogeneous sphere gravitational collapse"
   ]
  },
  {
   "cell_type": "markdown",
   "id": "ce115ceb-223f-46e2-a28a-c9ae5701d63f",
   "metadata": {},
   "source": [
    "## MODULES IMPORT"
   ]
  },
  {
   "cell_type": "code",
   "execution_count": 1,
   "id": "24f4cd10-453e-42d4-a78c-9f024fa84363",
   "metadata": {
    "id": "eec78939-1ab1-4844-991b-b494deccd495"
   },
   "outputs": [],
   "source": [
    "import numpy as np\n",
    "import matplotlib.pyplot as plt\n",
    "\n",
    "from astropy import constants as const\n",
    "from astropy import units as u"
   ]
  },
  {
   "cell_type": "code",
   "execution_count": 2,
   "id": "610931b2-04d4-4983-94cb-d4906b91b149",
   "metadata": {},
   "outputs": [],
   "source": [
    "# Chosen units (same name as in astropy https://docs.astropy.org/en/stable/units/#module-astropy.units.astrophys)\n",
    "\n",
    "my_u = [\"R_sun\",\"yr\",\"M_sun\"]\n",
    "\n",
    "# Physical constants converted to chosen units\n",
    "\n",
    "G = const.G.to(my_u[0] + \"^3/(\" + my_u[1] + \"^2 \" + my_u[2] + \")\").value\n",
    "c = const.c.to(my_u[0] + \"/\" + my_u[1]).value\n",
    "\n",
    "# Conversion constants between physical and internal units\n",
    "\n",
    "R0 = 1.\n",
    "M0 = 1.\n",
    "T0 = np.sqrt(R0**3/(G*M0))"
   ]
  },
  {
   "cell_type": "markdown",
   "id": "a3cf7a19-5017-4999-ab13-3fc3c80189c3",
   "metadata": {},
   "source": [
    "# 1 - INPUT GENERATION:\n",
    "Sampling N p.cles "
   ]
  },
  {
   "cell_type": "code",
   "execution_count": 3,
   "id": "ed9aeb59-d65d-461c-bd0d-e4ec036e9e21",
   "metadata": {},
   "outputs": [],
   "source": [
    "# Setting the random number generator\n",
    "\n",
    "rng = np.random.default_rng()"
   ]
  },
  {
   "cell_type": "code",
   "execution_count": 4,
   "id": "b3ad43c5-7763-48bd-9055-76326ea58556",
   "metadata": {},
   "outputs": [],
   "source": [
    "N = 2 # number of p.cles\n",
    "M = 1   # total mass (in units of solar mass)\n",
    "R = 1   # radius (in units of solar radius)\n",
    "\n",
    "phi = 2 * np.pi * rng.uniform(size=N)\n",
    "the = np.arccos(1 - 2 * rng.uniform(size=N))\n",
    "rho = R * rng.uniform(size=N)**(1/3)\n",
    "\n",
    "x = rho * np.sin(the) * np.cos(phi)\n",
    "y = rho * np.sin(the) * np.sin(phi)\n",
    "z = rho * np.cos(the)"
   ]
  },
  {
   "cell_type": "code",
   "execution_count": 5,
   "id": "38296096-9a05-4358-af6a-051328db67e4",
   "metadata": {},
   "outputs": [],
   "source": [
    "file_in = 'IF_Sun_2.txt'\n",
    "\n",
    "m = M / N * np.ones(N) # mass of a single p.cle\n",
    "v = np.zeros(N)             # p.cles at rest\n",
    "\n",
    "x = x # initial position\n",
    "y = y\n",
    "z = z\n",
    "\n",
    "time_in = 0 # initial time\n",
    "\n",
    "output = np.column_stack((m, x, y, z, v, v, v))\n",
    "with open(file_in, 'w') as file:\n",
    "    file.write(f'{N}\\n')\n",
    "    file.write(f'{time_in}\\n')\n",
    "    np.savetxt(file, output)"
   ]
  },
  {
   "cell_type": "markdown",
   "id": "4045867f-f8c2-4d58-8fc5-a6f8ceb650cf",
   "metadata": {},
   "source": [
    "# 2 - DATA ANALYSIS"
   ]
  },
  {
   "cell_type": "code",
   "execution_count": 9,
   "id": "ac385acb-78d2-404e-925d-0a793a193a39",
   "metadata": {},
   "outputs": [],
   "source": [
    "file_out = 'OF_Sun_2.txt'\n",
    "\n",
    "n = N + 2 # 'block' length\n",
    "m = 2     # number of rows to skip (i.e. lines containing n. bodies and time)\n",
    "\n",
    "time_rows = []\n",
    "data_rows = []\n",
    "with open(file_out, \"r\") as file:\n",
    "    lines = file.readlines()\n",
    "    for i in range(0, len(lines), n):  # move through rows every n rows\n",
    "        time_rows.extend(lines[i+1:i+m])\n",
    "        data_rows.extend(lines[i+m:i+n])\n",
    "\n",
    "time = np.loadtxt(time_rows)\n",
    "data = np.loadtxt(data_rows)"
   ]
  },
  {
   "cell_type": "code",
   "execution_count": 14,
   "id": "31921c6f-659d-49fc-aef4-bc201dbace62",
   "metadata": {},
   "outputs": [
    {
     "data": {
      "text/plain": [
       "(20,)"
      ]
     },
     "execution_count": 14,
     "metadata": {},
     "output_type": "execute_result"
    }
   ],
   "source": [
    "# Fetching data\n",
    "\n",
    "m = data[:, 0] # masses\n",
    "\n",
    "r = data[:, 1:4] # positions\n",
    "d = np.linalg.norm(r, axis=1)\n",
    "\n",
    "v = data[:, 4:7] # velocities\n",
    "\n",
    "d.shape"
   ]
  },
  {
   "cell_type": "code",
   "execution_count": null,
   "id": "0b0265fe-9a27-4fa8-a87e-b837670bf623",
   "metadata": {},
   "outputs": [],
   "source": []
  }
 ],
 "metadata": {
  "kernelspec": {
   "display_name": "Python 3 (ipykernel)",
   "language": "python",
   "name": "python3"
  },
  "language_info": {
   "codemirror_mode": {
    "name": "ipython",
    "version": 3
   },
   "file_extension": ".py",
   "mimetype": "text/x-python",
   "name": "python",
   "nbconvert_exporter": "python",
   "pygments_lexer": "ipython3",
   "version": "3.9.19"
  }
 },
 "nbformat": 4,
 "nbformat_minor": 5
}
